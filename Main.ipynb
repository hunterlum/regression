{
 "cells": [
  {
   "cell_type": "code",
   "execution_count": 1,
   "metadata": {},
   "outputs": [
    {
     "name": "stdout",
     "output_type": "stream",
     "text": [
      "Shape of combined df:  (231866, 5)\n",
      "After removing duplicate prices:  (230248, 5)\n",
      "After removing duplicate datetimes:  (230231, 5)\n"
     ]
    }
   ],
   "source": [
    "from bin.processor import processor\n",
    "import numpy as np\n",
    "data=processor(base='data/cryptoData',path='raw_data/')\n",
    "data=data.data"
   ]
  },
  {
   "cell_type": "code",
   "execution_count": 2,
   "metadata": {},
   "outputs": [
    {
     "data": {
      "text/html": [
       "<div>\n",
       "<style scoped>\n",
       "    .dataframe tbody tr th:only-of-type {\n",
       "        vertical-align: middle;\n",
       "    }\n",
       "\n",
       "    .dataframe tbody tr th {\n",
       "        vertical-align: top;\n",
       "    }\n",
       "\n",
       "    .dataframe thead th {\n",
       "        text-align: right;\n",
       "    }\n",
       "</style>\n",
       "<table border=\"1\" class=\"dataframe\">\n",
       "  <thead>\n",
       "    <tr style=\"text-align: right;\">\n",
       "      <th></th>\n",
       "      <th>BTC</th>\n",
       "      <th>ETH</th>\n",
       "      <th>LTC</th>\n",
       "    </tr>\n",
       "  </thead>\n",
       "  <tbody>\n",
       "    <tr>\n",
       "      <th>count</th>\n",
       "      <td>230231.000000</td>\n",
       "      <td>230231.000000</td>\n",
       "      <td>230231.000000</td>\n",
       "    </tr>\n",
       "    <tr>\n",
       "      <th>mean</th>\n",
       "      <td>6229.901696</td>\n",
       "      <td>193.959684</td>\n",
       "      <td>84.788008</td>\n",
       "    </tr>\n",
       "    <tr>\n",
       "      <th>std</th>\n",
       "      <td>1472.292717</td>\n",
       "      <td>43.595824</td>\n",
       "      <td>14.132876</td>\n",
       "    </tr>\n",
       "    <tr>\n",
       "      <th>min</th>\n",
       "      <td>3879.200000</td>\n",
       "      <td>131.500000</td>\n",
       "      <td>57.380000</td>\n",
       "    </tr>\n",
       "    <tr>\n",
       "      <th>25%</th>\n",
       "      <td>5167.630000</td>\n",
       "      <td>163.800000</td>\n",
       "      <td>75.100000</td>\n",
       "    </tr>\n",
       "    <tr>\n",
       "      <th>50%</th>\n",
       "      <td>5561.900000</td>\n",
       "      <td>173.190000</td>\n",
       "      <td>84.410000</td>\n",
       "    </tr>\n",
       "    <tr>\n",
       "      <th>75%</th>\n",
       "      <td>7907.890000</td>\n",
       "      <td>243.775000</td>\n",
       "      <td>92.020000</td>\n",
       "    </tr>\n",
       "    <tr>\n",
       "      <th>max</th>\n",
       "      <td>9133.850000</td>\n",
       "      <td>290.090000</td>\n",
       "      <td>122.600000</td>\n",
       "    </tr>\n",
       "  </tbody>\n",
       "</table>\n",
       "</div>"
      ],
      "text/plain": [
       "                 BTC            ETH            LTC\n",
       "count  230231.000000  230231.000000  230231.000000\n",
       "mean     6229.901696     193.959684      84.788008\n",
       "std      1472.292717      43.595824      14.132876\n",
       "min      3879.200000     131.500000      57.380000\n",
       "25%      5167.630000     163.800000      75.100000\n",
       "50%      5561.900000     173.190000      84.410000\n",
       "75%      7907.890000     243.775000      92.020000\n",
       "max      9133.850000     290.090000     122.600000"
      ]
     },
     "execution_count": 2,
     "metadata": {},
     "output_type": "execute_result"
    }
   ],
   "source": [
    "data.describe()"
   ]
  }
 ],
 "metadata": {
  "kernelspec": {
   "display_name": "Python 3",
   "language": "python",
   "name": "python3"
  },
  "language_info": {
   "codemirror_mode": {
    "name": "ipython",
    "version": 3
   },
   "file_extension": ".py",
   "mimetype": "text/x-python",
   "name": "python",
   "nbconvert_exporter": "python",
   "pygments_lexer": "ipython3",
   "version": "3.6.7"
  }
 },
 "nbformat": 4,
 "nbformat_minor": 2
}
