{
 "cells": [
  {
   "cell_type": "code",
   "execution_count": 1,
   "metadata": {},
   "outputs": [],
   "source": [
    "from bin import cryptoClass"
   ]
  },
  {
   "cell_type": "code",
   "execution_count": 2,
   "metadata": {},
   "outputs": [
    {
     "name": "stdout",
     "output_type": "stream",
     "text": [
      "Shape of combined df:  (237850, 5)\n",
      "After removing duplicate prices:  (231250, 5)\n",
      "After removing duplicate datetimes:  (231209, 5)\n"
     ]
    }
   ],
   "source": [
    "from bin.processor import processor\n",
    "import pandas as pd\n",
    "import numpy as np\n",
    "import seaborn as sns\n",
    "data=processor(base='data/cryptoData',path='raw_data/')\n",
    "data=data.data\n",
    "data=data.head(1000)"
   ]
  },
  {
   "cell_type": "code",
   "execution_count": 3,
   "metadata": {},
   "outputs": [
    {
     "data": {
      "text/html": [
       "<div>\n",
       "<style scoped>\n",
       "    .dataframe tbody tr th:only-of-type {\n",
       "        vertical-align: middle;\n",
       "    }\n",
       "\n",
       "    .dataframe tbody tr th {\n",
       "        vertical-align: top;\n",
       "    }\n",
       "\n",
       "    .dataframe thead th {\n",
       "        text-align: right;\n",
       "    }\n",
       "</style>\n",
       "<table border=\"1\" class=\"dataframe\">\n",
       "  <thead>\n",
       "    <tr style=\"text-align: right;\">\n",
       "      <th></th>\n",
       "      <th>BTC</th>\n",
       "      <th>ETH</th>\n",
       "      <th>LTC</th>\n",
       "    </tr>\n",
       "  </thead>\n",
       "  <tbody>\n",
       "    <tr>\n",
       "      <th>count</th>\n",
       "      <td>1000.000000</td>\n",
       "      <td>1000.000000</td>\n",
       "      <td>1000.000000</td>\n",
       "    </tr>\n",
       "    <tr>\n",
       "      <th>mean</th>\n",
       "      <td>3984.874860</td>\n",
       "      <td>135.461440</td>\n",
       "      <td>59.567990</td>\n",
       "    </tr>\n",
       "    <tr>\n",
       "      <th>std</th>\n",
       "      <td>8.252558</td>\n",
       "      <td>0.748736</td>\n",
       "      <td>0.378652</td>\n",
       "    </tr>\n",
       "    <tr>\n",
       "      <th>min</th>\n",
       "      <td>3960.980000</td>\n",
       "      <td>133.310000</td>\n",
       "      <td>58.550000</td>\n",
       "    </tr>\n",
       "    <tr>\n",
       "      <th>25%</th>\n",
       "      <td>3978.700000</td>\n",
       "      <td>135.150000</td>\n",
       "      <td>59.350000</td>\n",
       "    </tr>\n",
       "    <tr>\n",
       "      <th>50%</th>\n",
       "      <td>3986.500000</td>\n",
       "      <td>135.735000</td>\n",
       "      <td>59.560000</td>\n",
       "    </tr>\n",
       "    <tr>\n",
       "      <th>75%</th>\n",
       "      <td>3992.320000</td>\n",
       "      <td>136.160000</td>\n",
       "      <td>59.860000</td>\n",
       "    </tr>\n",
       "    <tr>\n",
       "      <th>max</th>\n",
       "      <td>3996.470000</td>\n",
       "      <td>136.440000</td>\n",
       "      <td>60.250000</td>\n",
       "    </tr>\n",
       "  </tbody>\n",
       "</table>\n",
       "</div>"
      ],
      "text/plain": [
       "               BTC          ETH          LTC\n",
       "count  1000.000000  1000.000000  1000.000000\n",
       "mean   3984.874860   135.461440    59.567990\n",
       "std       8.252558     0.748736     0.378652\n",
       "min    3960.980000   133.310000    58.550000\n",
       "25%    3978.700000   135.150000    59.350000\n",
       "50%    3986.500000   135.735000    59.560000\n",
       "75%    3992.320000   136.160000    59.860000\n",
       "max    3996.470000   136.440000    60.250000"
      ]
     },
     "execution_count": 3,
     "metadata": {},
     "output_type": "execute_result"
    }
   ],
   "source": [
    "data.describe()"
   ]
  },
  {
   "cell_type": "code",
   "execution_count": 4,
   "metadata": {},
   "outputs": [
    {
     "data": {
      "text/plain": [
       "<matplotlib.axes._subplots.AxesSubplot at 0x7f15a8075630>"
      ]
     },
     "execution_count": 4,
     "metadata": {},
     "output_type": "execute_result"
    },
    {
     "data": {
      "image/png": "[encoded data removed]",
      "text/plain": [
       "<Figure size 432x288 with 2 Axes>"
      ]
     },
     "metadata": {
      "needs_background": "light"
     },
     "output_type": "display_data"
    }
   ],
   "source": [
    "sns.heatmap(data.corr())"
   ]
  },
  {
   "cell_type": "code",
   "execution_count": 5,
   "metadata": {},
   "outputs": [
    {
     "data": {
      "text/plain": [
       "<matplotlib.legend.Legend at 0x7f15aafb25f8>"
      ]
     },
     "execution_count": 5,
     "metadata": {},
     "output_type": "execute_result"
    },
    {
     "data": {
      "image/png": "[encoded data removed]",
      "text/plain": [
       "<Figure size 432x288 with 1 Axes>"
      ]
     },
     "metadata": {
      "needs_background": "light"
     },
     "output_type": "display_data"
    }
   ],
   "source": [
    "def standardize(price,column):\n",
    "    #output the standardized value of price wrt column\n",
    "    standardized_price=price-np.mean(column)\n",
    "    standardized_price=standardized_price/np.std(column)\n",
    "    return(standardized_price)\n",
    "\n",
    "std_BTC=data['BTC'].apply(lambda price: standardize(price,data['BTC']))\n",
    "\n",
    "std_ETH=data['ETH'].apply(lambda price: standardize(price,data['ETH']))\n",
    "\n",
    "std_LTC=data['LTC'].apply(lambda price: standardize(price,data['LTC']))\n",
    "\n",
    "import matplotlib.pyplot as plt\n",
    "std_prices=pd.concat([std_BTC,std_ETH,std_LTC],axis=1)\n",
    "prices=pd.melt(std_prices)\n",
    "sns.boxplot(y='value',x='variable',hue='variable', data=prices)\n",
    "plt.legend(loc='best')"
   ]
  },
  {
   "cell_type": "code",
   "execution_count": 6,
   "metadata": {},
   "outputs": [
    {
     "data": {
      "text/plain": [
       "<matplotlib.legend.Legend at 0x7f15aafb2630>"
      ]
     },
     "execution_count": 6,
     "metadata": {},
     "output_type": "execute_result"
    },
    {
     "data": {
      "image/png": "[encoded data removed]",
      "text/plain": [
       "<Figure size 432x288 with 1 Axes>"
      ]
     },
     "metadata": {
      "needs_background": "light"
     },
     "output_type": "display_data"
    }
   ],
   "source": [
    "def normalize(price,column):\n",
    "    #output the normalized value of price wrt column\n",
    "    normalized_price=price-np.min(column)\n",
    "    col_range=np.max(column)-np.min(column)\n",
    "    normalized_price=normalized_price/col_range\n",
    "    return(normalized_price)\n",
    "\n",
    "std_BTC=data['BTC'].apply(lambda price: normalize(price,data['BTC']))\n",
    "\n",
    "std_ETH=data['ETH'].apply(lambda price: normalize(price,data['ETH']))\n",
    "\n",
    "std_LTC=data['LTC'].apply(lambda price: normalize(price,data['LTC']))\n",
    "\n",
    "import matplotlib.pyplot as plt\n",
    "std_prices=pd.concat([std_BTC,std_ETH,std_LTC],axis=1)\n",
    "prices=pd.melt(std_prices)\n",
    "sns.boxplot(y='value',x='variable',hue='variable', data=prices)\n",
    "plt.legend(loc='best')"
   ]
  },
  {
   "cell_type": "code",
   "execution_count": null,
   "metadata": {},
   "outputs": [],
   "source": []
  }
 ],
 "metadata": {
  "kernelspec": {
   "display_name": "Python 3",
   "language": "python",
   "name": "python3"
  },
  "language_info": {
   "codemirror_mode": {
    "name": "ipython",
    "version": 3
   },
   "file_extension": ".py",
   "mimetype": "text/x-python",
   "name": "python",
   "nbconvert_exporter": "python",
   "pygments_lexer": "ipython3",
   "version": "3.6.8"
  }
 },
 "nbformat": 4,
 "nbformat_minor": 2
}
