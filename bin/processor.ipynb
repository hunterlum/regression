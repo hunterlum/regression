{
 "cells": [
  {
   "cell_type": "code",
   "execution_count": 1,
   "metadata": {},
   "outputs": [],
   "source": [
    "import pandas as pd\n",
    "import numpy as np\n",
    "import datetime as dt\n",
    "import os"
   ]
  },
  {
   "cell_type": "markdown",
   "metadata": {},
   "source": [
    "# Predefined Functions"
   ]
  },
  {
   "cell_type": "markdown",
   "metadata": {},
   "source": [
    "Functions used in the processor class"
   ]
  },
  {
   "cell_type": "code",
   "execution_count": 2,
   "metadata": {},
   "outputs": [],
   "source": [
    "def read_pickles(base):\n",
    "    '''Returns a list of dataframes from \n",
    "    data located in the base directory'''\n",
    "    return(list(map(lambda x: pd.read_pickle(base+x),os.listdir(base))))\n",
    "\n",
    "def sortandfilter(combinedDf):\n",
    "    combinedDf=combinedDf[['Date','Time','BTC','ETH','LTC']]\n",
    "    #Sort by date and time\n",
    "    combinedDf=combinedDf.sort_values(by=['Date','Time'])\n",
    "    #Create filter to get unique values\n",
    "    #the first instance of repeated values is returned\n",
    "    btc=np.array(combinedDf['BTC'][:-1])!=np.array(combinedDf['BTC'][1:])\n",
    "    ltc=np.array(combinedDf['LTC'][:-1])!=np.array(combinedDf['LTC'][1:])\n",
    "    eth=np.array(combinedDf['ETH'][:-1])!=np.array(combinedDf['ETH'][1:])\n",
    "    filterArr=np.append(True,np.logical_or(btc,eth,ltc).reshape(-1,1))\n",
    "    #apply filter\n",
    "    combinedDf=combinedDf[filterArr]\n",
    "    combinedDf.index=range(combinedDf.shape[0])\n",
    "    return(combinedDf)\n",
    "\n",
    "#Functions used to remove duplicate datetime values\n",
    "#pandas has a function to drop duplicates\n",
    "#it may be worthwhile to reimplement this portion\n",
    "def combine(x):\n",
    "    '''Create datetime object from date and time'''\n",
    "    return(dt.datetime.combine(x[0],x[1]))\n",
    "\n",
    "def rm_duplicate_dates(df,v=False):\n",
    "    '''Remove rows that have identical datetimes\n",
    "    Keep only the first instance of the duplicate datetime'''\n",
    "    dtls=df[['Date','Time']]\n",
    "    dtls=list(map(combine,list(zip(dtls['Date'],dtls['Time']))))\n",
    "\n",
    "    #f means filter\n",
    "    fdtls=list(np.array(dtls[:-1])<np.array(dtls[1:]))+[True]\n",
    "    #n is the negation of the filter\n",
    "    nfdtls=np.invert(fdtls)\n",
    "\n",
    "    temp=df.loc[fdtls]\n",
    "    temp.index=range(temp.shape[0])\n",
    "    if(v):\n",
    "        print('Shape of dataframe\\nBefore Cleaning:',df.shape)\n",
    "        print('After Cleaning: ',temp.shape)\n",
    "    return(temp)"
   ]
  },
  {
   "cell_type": "markdown",
   "metadata": {},
   "source": [
    "# Processor Class"
   ]
  },
  {
   "cell_type": "code",
   "execution_count": 3,
   "metadata": {},
   "outputs": [],
   "source": [
    "#Loading and combining data\n",
    "class processor:\n",
    "    '''Class used to transform raw data into structured tables'''\n",
    "    def __init__(self,base='data/cryptoData',path=None):\n",
    "        temp=pd.read_pickle(base)\n",
    "        \n",
    "        if(path!=None):\n",
    "            temp=pd.concat(read_pickles(path)+[temp],sort=False)   \n",
    "        print('Shape of combined df: ',temp.shape)    \n",
    "\n",
    "        temp=sortandfilter(temp)\n",
    "        print('After removing duplicate prices: ',temp.shape)\n",
    "\n",
    "        temp=rm_duplicate_dates(temp)\n",
    "        print('After removing duplicate datetimes: ', temp.shape)\n",
    "        \n",
    "        #output prepared data\n",
    "        self.data=temp\n",
    "        return(None)\n",
    "    \n",
    "    def save_file(self,name='./cryptoData'):\n",
    "        self.data.to_pickle(name)\n",
    "        self.data.to_csv(name+'.csv',index=False)\n",
    "        \n",
    "        \n"
   ]
  },
  {
   "cell_type": "markdown",
   "metadata": {},
   "source": [
    "# Sample Usage"
   ]
  },
  {
   "cell_type": "code",
   "execution_count": 4,
   "metadata": {},
   "outputs": [
    {
     "name": "stdout",
     "output_type": "stream",
     "text": [
      "Shape of combined df:  (230036, 5)\n",
      "After removing duplicate prices:  (230036, 5)\n",
      "After removing duplicate datetimes:  (230036, 5)\n"
     ]
    }
   ],
   "source": [
    "# data=processor(base='../data/cryptoData',path=None)\n",
    "# data.save_file('../cryptoData')"
   ]
  }
 ],
 "metadata": {
  "kernelspec": {
   "display_name": "Python 3",
   "language": "python",
   "name": "python3"
  },
  "language_info": {
   "codemirror_mode": {
    "name": "ipython",
    "version": 3
   },
   "file_extension": ".py",
   "mimetype": "text/x-python",
   "name": "python",
   "nbconvert_exporter": "python",
   "pygments_lexer": "ipython3",
   "version": "3.6.7"
  }
 },
 "nbformat": 4,
 "nbformat_minor": 2
}
